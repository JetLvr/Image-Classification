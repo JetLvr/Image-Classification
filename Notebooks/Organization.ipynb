{
 "cells": [
  {
   "cell_type": "code",
   "execution_count": 1,
   "id": "1cffbcf0",
   "metadata": {},
   "outputs": [],
   "source": [
    "import pandas as pd\n",
    "import os\n",
    "from PIL import Image"
   ]
  },
  {
   "cell_type": "code",
   "execution_count": 2,
   "id": "8760fe71",
   "metadata": {},
   "outputs": [],
   "source": [
    "files_path = '../local_folder/full'\n",
    "df = pd.DataFrame({'nome_arquivo': os.listdir(files_path)})\n",
    "df['modelo'] = df.nome_arquivo.map(\n",
    "    lambda x: x.replace('.jpg','').replace('Airbus','').replace('Boeing','').split('(')[0]\n",
    ")\n",
    "df['target_name'] = df.nome_arquivo.map(lambda x: 'Airbus' if x.startswith('Airbus') else 'Boeing')\n",
    "df['target'] = df.target_name.map({'Airbus':0, 'Boeing':1})"
   ]
  },
  {
   "cell_type": "code",
   "execution_count": 3,
   "id": "084dec96",
   "metadata": {},
   "outputs": [],
   "source": [
    "out_A = df.loc[df.target==0,\"nome_arquivo\"][:10].to_list()\n",
    "out_B = df.loc[df.target==1,\"nome_arquivo\"][:10].to_list()\n",
    "out = out_A + out_B\n",
    "for file_name in out:\n",
    "    imagem = Image.open(f'{files_path}/{file_name}')\n",
    "    imagem.save(f'../local_folder/hold_out/{file_name}')\n",
    "    \n",
    "A = df.loc[df.target==0,\"nome_arquivo\"][10:].to_list()\n",
    "for file_name in A:\n",
    "    imagem = Image.open(f'{files_path}/{file_name}')\n",
    "    imagem.save(f'../local_folder/for_classification/airbus/{file_name}')\n",
    "\n",
    "B = df.loc[df.target==1,\"nome_arquivo\"][10:].to_list()\n",
    "for file_name in B:\n",
    "    imagem = Image.open(f'{files_path}/{file_name}')\n",
    "    imagem.save(f'../local_folder/for_classification/boeing/{file_name}')"
   ]
  }
 ],
 "metadata": {
  "kernelspec": {
   "display_name": "Python 3 (ipykernel)",
   "language": "python",
   "name": "python3"
  },
  "language_info": {
   "codemirror_mode": {
    "name": "ipython",
    "version": 3
   },
   "file_extension": ".py",
   "mimetype": "text/x-python",
   "name": "python",
   "nbconvert_exporter": "python",
   "pygments_lexer": "ipython3",
   "version": "3.6.13"
  }
 },
 "nbformat": 4,
 "nbformat_minor": 5
}
